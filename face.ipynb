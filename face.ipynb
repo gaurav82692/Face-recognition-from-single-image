{
 "cells": [
  {
   "cell_type": "code",
   "execution_count": 29,
   "id": "a79f0ee8-b3f7-4a1e-9f31-049b7def64c8",
   "metadata": {},
   "outputs": [],
   "source": [
    "import cv2\n",
    "import numpy as np\n",
    "import face_recognition\n",
    "import os\n",
    "from datetime import datetime\n"
   ]
  },
  {
   "cell_type": "code",
   "execution_count": 30,
   "id": "0e78fb47-013a-4198-a726-a5e9a01fa5b5",
   "metadata": {},
   "outputs": [],
   "source": [
    "path = 'Training_images'\n",
    "images = []\n",
    "classNames = []\n",
    "myList = os.listdir(path)"
   ]
  },
  {
   "cell_type": "code",
   "execution_count": 31,
   "id": "de063af8-efe3-4b1b-b393-01c8f9ec4ff4",
   "metadata": {},
   "outputs": [
    {
     "name": "stdout",
     "output_type": "stream",
     "text": [
      "['disgust.jpeg', '.ipynb_checkpoints', 'Gaurav.jpg']\n",
      "<class 'list'>\n"
     ]
    }
   ],
   "source": [
    "print(myList)\n",
    "print(type(images))"
   ]
  },
  {
   "cell_type": "code",
   "execution_count": 32,
   "id": "8d443bf1-53e7-4a1f-ad4e-881be7242865",
   "metadata": {},
   "outputs": [
    {
     "name": "stdout",
     "output_type": "stream",
     "text": [
      "['disgust', 'Gaurav']\n"
     ]
    }
   ],
   "source": [
    "for cl in myList:\n",
    "    if cl != '.ipynb_checkpoints':\n",
    "        curImg = cv2.imread(f'{path}/{cl}')\n",
    "        images.append(curImg)\n",
    "        classNames.append(os.path.splitext(cl)[0])\n",
    "print(classNames)"
   ]
  },
  {
   "cell_type": "code",
   "execution_count": 33,
   "id": "6f4a1122-2ab1-470e-a966-890c7e1772f7",
   "metadata": {},
   "outputs": [],
   "source": [
    "def findEncodings(images):\n",
    "    encodeList = []\n",
    "    print(images)\n",
    "    for img in images:\n",
    "        print(img)\n",
    "        img = cv2.cvtColor(img, cv2.COLOR_BGR2RGB)\n",
    "        encode = face_recognition.face_encodings(img)[0]\n",
    "        encodeList.append(encode)\n",
    "    return encodeList"
   ]
  },
  {
   "cell_type": "code",
   "execution_count": 34,
   "id": "5cc3ba36-6bca-431a-807c-beb2d16dd5c8",
   "metadata": {},
   "outputs": [
    {
     "name": "stdout",
     "output_type": "stream",
     "text": [
      "[array([[[226, 227, 225],\n",
      "        [226, 227, 225],\n",
      "        [226, 227, 225],\n",
      "        ...,\n",
      "        [195, 196, 194],\n",
      "        [194, 195, 193],\n",
      "        [194, 195, 193]],\n",
      "\n",
      "       [[226, 227, 225],\n",
      "        [226, 227, 225],\n",
      "        [226, 227, 225],\n",
      "        ...,\n",
      "        [194, 195, 193],\n",
      "        [194, 195, 193],\n",
      "        [193, 194, 192]],\n",
      "\n",
      "       [[226, 227, 225],\n",
      "        [226, 227, 225],\n",
      "        [226, 227, 225],\n",
      "        ...,\n",
      "        [194, 195, 193],\n",
      "        [193, 194, 192],\n",
      "        [192, 193, 191]],\n",
      "\n",
      "       ...,\n",
      "\n",
      "       [[183, 184, 182],\n",
      "        [185, 186, 184],\n",
      "        [179, 180, 178],\n",
      "        ...,\n",
      "        [194, 195, 193],\n",
      "        [197, 195, 194],\n",
      "        [198, 196, 195]],\n",
      "\n",
      "       [[183, 184, 182],\n",
      "        [177, 178, 176],\n",
      "        [168, 169, 167],\n",
      "        ...,\n",
      "        [192, 193, 191],\n",
      "        [196, 194, 193],\n",
      "        [198, 196, 195]],\n",
      "\n",
      "       [[191, 192, 190],\n",
      "        [178, 179, 177],\n",
      "        [165, 166, 164],\n",
      "        ...,\n",
      "        [191, 192, 190],\n",
      "        [195, 193, 192],\n",
      "        [197, 195, 194]]], dtype=uint8), array([[[250, 250, 250],\n",
      "        [250, 250, 250],\n",
      "        [250, 250, 250],\n",
      "        ...,\n",
      "        [250, 250, 250],\n",
      "        [250, 250, 250],\n",
      "        [250, 250, 250]],\n",
      "\n",
      "       [[251, 251, 251],\n",
      "        [249, 251, 251],\n",
      "        [251, 251, 251],\n",
      "        ...,\n",
      "        [249, 251, 251],\n",
      "        [251, 251, 251],\n",
      "        [249, 251, 251]],\n",
      "\n",
      "       [[248, 250, 250],\n",
      "        [246, 251, 250],\n",
      "        [248, 250, 250],\n",
      "        ...,\n",
      "        [246, 251, 250],\n",
      "        [248, 250, 250],\n",
      "        [246, 251, 250]],\n",
      "\n",
      "       ...,\n",
      "\n",
      "       [[ 51,  23,  23],\n",
      "        [ 48,  20,  20],\n",
      "        [ 44,  15,  18],\n",
      "        ...,\n",
      "        [ 28,   3,   7],\n",
      "        [ 30,   5,   9],\n",
      "        [ 31,   6,  10]],\n",
      "\n",
      "       [[ 50,  22,  22],\n",
      "        [ 47,  19,  19],\n",
      "        [ 43,  14,  17],\n",
      "        ...,\n",
      "        [ 28,   3,   7],\n",
      "        [ 30,   5,   9],\n",
      "        [ 31,   6,  10]],\n",
      "\n",
      "       [[ 48,  20,  20],\n",
      "        [ 45,  17,  17],\n",
      "        [ 41,  12,  15],\n",
      "        ...,\n",
      "        [ 28,   3,   7],\n",
      "        [ 30,   5,   9],\n",
      "        [ 31,   6,  10]]], dtype=uint8)]\n",
      "[[[226 227 225]\n",
      "  [226 227 225]\n",
      "  [226 227 225]\n",
      "  ...\n",
      "  [195 196 194]\n",
      "  [194 195 193]\n",
      "  [194 195 193]]\n",
      "\n",
      " [[226 227 225]\n",
      "  [226 227 225]\n",
      "  [226 227 225]\n",
      "  ...\n",
      "  [194 195 193]\n",
      "  [194 195 193]\n",
      "  [193 194 192]]\n",
      "\n",
      " [[226 227 225]\n",
      "  [226 227 225]\n",
      "  [226 227 225]\n",
      "  ...\n",
      "  [194 195 193]\n",
      "  [193 194 192]\n",
      "  [192 193 191]]\n",
      "\n",
      " ...\n",
      "\n",
      " [[183 184 182]\n",
      "  [185 186 184]\n",
      "  [179 180 178]\n",
      "  ...\n",
      "  [194 195 193]\n",
      "  [197 195 194]\n",
      "  [198 196 195]]\n",
      "\n",
      " [[183 184 182]\n",
      "  [177 178 176]\n",
      "  [168 169 167]\n",
      "  ...\n",
      "  [192 193 191]\n",
      "  [196 194 193]\n",
      "  [198 196 195]]\n",
      "\n",
      " [[191 192 190]\n",
      "  [178 179 177]\n",
      "  [165 166 164]\n",
      "  ...\n",
      "  [191 192 190]\n",
      "  [195 193 192]\n",
      "  [197 195 194]]]\n",
      "[[[250 250 250]\n",
      "  [250 250 250]\n",
      "  [250 250 250]\n",
      "  ...\n",
      "  [250 250 250]\n",
      "  [250 250 250]\n",
      "  [250 250 250]]\n",
      "\n",
      " [[251 251 251]\n",
      "  [249 251 251]\n",
      "  [251 251 251]\n",
      "  ...\n",
      "  [249 251 251]\n",
      "  [251 251 251]\n",
      "  [249 251 251]]\n",
      "\n",
      " [[248 250 250]\n",
      "  [246 251 250]\n",
      "  [248 250 250]\n",
      "  ...\n",
      "  [246 251 250]\n",
      "  [248 250 250]\n",
      "  [246 251 250]]\n",
      "\n",
      " ...\n",
      "\n",
      " [[ 51  23  23]\n",
      "  [ 48  20  20]\n",
      "  [ 44  15  18]\n",
      "  ...\n",
      "  [ 28   3   7]\n",
      "  [ 30   5   9]\n",
      "  [ 31   6  10]]\n",
      "\n",
      " [[ 50  22  22]\n",
      "  [ 47  19  19]\n",
      "  [ 43  14  17]\n",
      "  ...\n",
      "  [ 28   3   7]\n",
      "  [ 30   5   9]\n",
      "  [ 31   6  10]]\n",
      "\n",
      " [[ 48  20  20]\n",
      "  [ 45  17  17]\n",
      "  [ 41  12  15]\n",
      "  ...\n",
      "  [ 28   3   7]\n",
      "  [ 30   5   9]\n",
      "  [ 31   6  10]]]\n",
      "Encoding Complete\n"
     ]
    }
   ],
   "source": [
    "encodeListKnown = findEncodings(images)\n",
    "print('Encoding Complete')"
   ]
  },
  {
   "cell_type": "code",
   "execution_count": 36,
   "id": "ed4fa281-e477-4200-9fe6-db470c92aeec",
   "metadata": {},
   "outputs": [],
   "source": [
    "img = cv2.imread('t.jpg')\n",
    "imgS = cv2.resize(img, (0, 0), None, 0.25, 0.25)\n",
    "imgS = cv2.cvtColor(imgS, cv2.COLOR_BGR2RGB)"
   ]
  },
  {
   "cell_type": "code",
   "execution_count": 37,
   "id": "4984b95a-c862-4ffe-8033-1309b413fc6e",
   "metadata": {},
   "outputs": [],
   "source": [
    "facesCurFrame = face_recognition.face_locations(imgS)\n",
    "encodesCurFrame = face_recognition.face_encodings(imgS, facesCurFrame)"
   ]
  },
  {
   "cell_type": "code",
   "execution_count": 38,
   "id": "6e43c19f-50f9-4e9e-be64-a7cb8d1998e9",
   "metadata": {},
   "outputs": [
    {
     "name": "stdout",
     "output_type": "stream",
     "text": [
      "GAURAV\n"
     ]
    }
   ],
   "source": [
    "for encodeFace, faceLoc in zip(encodesCurFrame, facesCurFrame):\n",
    "    matches = face_recognition.compare_faces(encodeListKnown, encodeFace)\n",
    "    faceDis = face_recognition.face_distance(encodeListKnown, encodeFace)\n",
    "    matchIndex = np.argmin(faceDis)\n",
    "    if matches[matchIndex]:\n",
    "        name = classNames[matchIndex].upper()\n",
    "        y1, x2, y2, x1 = faceLoc\n",
    "        y1, x2, y2, x1 = y1 * 4, x2 * 4, y2 * 4, x1 * 4\n",
    "        cv2.rectangle(img, (x1, y1), (x2, y2), (0, 255, 0), 2)\n",
    "        cv2.rectangle(img, (x1, y2 - 35), (x2, y2), (0, 255, 0), cv2.FILLED)\n",
    "        cv2.putText(img, name, (x1 + 6, y2 - 6), cv2.FONT_HERSHEY_COMPLEX, 1, (255, 255, 255), 2)\n",
    "print(name)"
   ]
  },
  {
   "cell_type": "code",
   "execution_count": 40,
   "id": "f4eac373-7077-46f7-a400-3d1037302169",
   "metadata": {},
   "outputs": [
    {
     "data": {
      "text/plain": [
       "True"
      ]
     },
     "execution_count": 40,
     "metadata": {},
     "output_type": "execute_result"
    }
   ],
   "source": [
    "cv2.imwrite('output/result.jpg', img)"
   ]
  },
  {
   "cell_type": "code",
   "execution_count": null,
   "id": "1f5a3aab-a202-4e84-987d-4d53097d8b4b",
   "metadata": {},
   "outputs": [],
   "source": []
  }
 ],
 "metadata": {
  "kernelspec": {
   "display_name": "Python 3",
   "language": "python",
   "name": "python3"
  },
  "language_info": {
   "codemirror_mode": {
    "name": "ipython",
    "version": 3
   },
   "file_extension": ".py",
   "mimetype": "text/x-python",
   "name": "python",
   "nbconvert_exporter": "python",
   "pygments_lexer": "ipython3",
   "version": "3.6.9"
  }
 },
 "nbformat": 4,
 "nbformat_minor": 5
}
